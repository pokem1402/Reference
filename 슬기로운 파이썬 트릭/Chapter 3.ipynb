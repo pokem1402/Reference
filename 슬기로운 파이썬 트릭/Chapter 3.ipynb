{
 "cells": [
  {
   "cell_type": "markdown",
   "metadata": {},
   "source": [
    "# Decorator"
   ]
  },
  {
   "cell_type": "code",
   "execution_count": 29,
   "metadata": {},
   "outputs": [
    {
     "name": "stdout",
     "output_type": "stream",
     "text": [
      "hello World!\n"
     ]
    }
   ],
   "source": [
    "# without any augment\n",
    "# return original function return value\n",
    "# @Property\n",
    "def NoAugmentDecoratorReturnFunctionForm(func):    \n",
    "    \n",
    "    # some kinds of pre-processes..\n",
    "    return func()\n",
    "    \n",
    "    # some kinds of post-processes..\n",
    "    \n",
    "# -> NoAugmentDecoratorReturnFunctionForm(func())\n",
    "@NoAugmentDecoratorReturnFunctionForm\n",
    "def NoAugmentFunc():\n",
    "    print(\"hello World!\")\n",
    "    \n",
    "NoAugmentFunc"
   ]
  },
  {
   "cell_type": "code",
   "execution_count": 30,
   "metadata": {},
   "outputs": [
    {
     "name": "stdout",
     "output_type": "stream",
     "text": [
      "hello world!\n"
     ]
    }
   ],
   "source": [
    "# without any augment\n",
    "# return original function\n",
    "def NoAugmentDecorator(func):\n",
    "    return func\n",
    "\n",
    "@NoAugmentDecorator\n",
    "def NoAugmentFunc():\n",
    "    print(\"hello world!\")\n",
    "\n",
    "# (NoAugmentDecorator(func))()\n",
    "NoAugmentFunc()"
   ]
  },
  {
   "cell_type": "code",
   "execution_count": 31,
   "metadata": {},
   "outputs": [
    {
     "data": {
      "text/plain": [
       "'HELLO WORLD!'"
      ]
     },
     "execution_count": 31,
     "metadata": {},
     "output_type": "execute_result"
    }
   ],
   "source": [
    "# without any augment\n",
    "# return modified function\n",
    "def NoAugmentUpperDecorator(func):\n",
    "    \n",
    "    def wrapper():\n",
    "        return func().upper()\n",
    "    return wrapper\n",
    "\n",
    "@NoAugmentUpperDecorator\n",
    "def NoAugmentFunc():\n",
    "    return 'hello world!'\n",
    "\n",
    "# (NoAugmentUpperDecorator(func))() -> wrapper() -> func().upper()\n",
    "NoAugmentFunc()"
   ]
  },
  {
   "cell_type": "code",
   "execution_count": 35,
   "metadata": {},
   "outputs": [
    {
     "name": "stdout",
     "output_type": "stream",
     "text": [
      "1 2 3\n"
     ]
    }
   ],
   "source": [
    "# without any augment\n",
    "# return original function with augment\n",
    "def NoAugmentDecorator(func):\n",
    "    \n",
    "    def wrapper(*args, **kwargs):\n",
    "        return func(*args, **kwargs)\n",
    "    return wrapper\n",
    "\n",
    "@NoAugmentDecorator\n",
    "def Func(a,b,c):\n",
    "    print(a,b,c)\n",
    "\n",
    "# (NoAugmentDecorator(func))(*args, **kwargs)\n",
    "Func(1,2,3)"
   ]
  },
  {
   "cell_type": "code",
   "execution_count": 39,
   "metadata": {},
   "outputs": [
    {
     "name": "stdout",
     "output_type": "stream",
     "text": [
      "decorator augment :  (1,) {'k': 2}\n",
      "1 2 3\n"
     ]
    }
   ],
   "source": [
    "# with augment\n",
    "# return original function with augment\n",
    "def Decorator(*args, **kwargs):\n",
    "    print(\"decorator augment : \", args, kwargs)\n",
    "    \n",
    "    def func_wrapper(func):\n",
    "        def wrapper(*args, **kwargs):\n",
    "            return func(*args, **kwargs)\n",
    "        return wrapper\n",
    "    return func_wrapper\n",
    "\n",
    "@Decorator(1, k=2)\n",
    "def Func(a,b,c):\n",
    "    print(a,b,c)\n",
    "\n",
    "# ((Decorator(*args, **kwargs))(func))(*args, **kwargs)\n",
    "Func(1,2,3)"
   ]
  },
  {
   "cell_type": "code",
   "execution_count": 46,
   "metadata": {},
   "outputs": [
    {
     "name": "stdout",
     "output_type": "stream",
     "text": [
      "1 2 3\n",
      "ValueError\n"
     ]
    }
   ],
   "source": [
    "# error handling with decorator\n",
    "\n",
    "def ValueErrorHandler(a=None):\n",
    "    def decorator(func):\n",
    "        def wrapper(*args, **kwargs):\n",
    "            try:\n",
    "                return func(*args, **kwargs)\n",
    "            except ValueError as e:\n",
    "                print(e)\n",
    "        return wrapper\n",
    "    return decorator\n",
    "\n",
    "# (ValueErrorHandler(func))(*arg, **kwargs)\n",
    "@ValueErrorHandler()\n",
    "def func(a,b,c):\n",
    "    \n",
    "    print(a,b,c)\n",
    "    \n",
    "    if a > 0:\n",
    "        raise ValueError(\"ValueError\")\n",
    "\n",
    "func(1,2,3)"
   ]
  },
  {
   "cell_type": "code",
   "execution_count": 52,
   "metadata": {},
   "outputs": [
    {
     "name": "stdout",
     "output_type": "stream",
     "text": [
      "1 2 3\n",
      "ValueError ValueError\n"
     ]
    }
   ],
   "source": [
    "def ErrorHandler(error = Exception):\n",
    "    def decorator(func):\n",
    "        def wrapper(*args, **kwargs):\n",
    "            try:\n",
    "                return func(*args, **kwargs)\n",
    "            except error as e:\n",
    "                print(e, e.__class__.__name__)\n",
    "        return wrapper\n",
    "    return decorator\n",
    "\n",
    "@ErrorHandler(error = (TypeError, ValueError))\n",
    "def func(a,b,c):\n",
    "    \n",
    "    print(a,b,c)\n",
    "    \n",
    "    if a > 0:\n",
    "        raise ValueError(\"ValueError\")\n",
    "\n",
    "func(1,2,3)"
   ]
  },
  {
   "cell_type": "code",
   "execution_count": 55,
   "metadata": {},
   "outputs": [
    {
     "data": {
      "text/plain": [
       "('function', ' function docs')"
      ]
     },
     "execution_count": 55,
     "metadata": {},
     "output_type": "execute_result"
    }
   ],
   "source": [
    "# Debugable Decorator\n",
    "\n",
    "import functools\n",
    "\n",
    "def Decorator(*ags, **kwargs):\n",
    "    \"\"\"Decorator docs\"\"\"\n",
    "    def decorator(func):\n",
    "        \"\"\"decorator docs\"\"\"\n",
    "        @functools.wraps(func)\n",
    "        def wrapper(*args, **kwargs):\n",
    "            \"\"\"wrapper docs\"\"\"\n",
    "            return func(*args, *kwargs)\n",
    "        \n",
    "        return wrapper\n",
    "\n",
    "    return decorator\n",
    "\n",
    "@Decorator()\n",
    "def function(a,b,c):\n",
    "    \"\"\"function docs\"\"\"\n",
    "    print(a,b,c)\n",
    "\n",
    "function.__name__, function.__doc__\n"
   ]
  },
  {
   "cell_type": "markdown",
   "metadata": {},
   "source": [
    "## 실전 예제\n",
    "\n",
    "일반적인 함수에 @decorator를 통해 error handling"
   ]
  },
  {
   "cell_type": "markdown",
   "metadata": {},
   "source": [
    "```python\n",
    "# from web_scrapper/module/scrapper.py\n",
    "# written by wonbin kim\n",
    "# 2023.09.01. 14:00 Version\n",
    "\n",
    "# function of Scrapper class  \n",
    "@classmethod\n",
    "def Reconnection(cls, func): # Decorator class, function\n",
    "    \"\"\" Decorator for expectable error\"\"\"\n",
    "    \n",
    "    @functools.wraps(func)\n",
    "    def wrapper(*args, **kwargs): # augments of the function\n",
    "        \n",
    "        reconnection_time = kwargs.get(\"reconnection_time\", 10)            \n",
    "        try:       \n",
    "            return func(*args, **kwargs)\n",
    "        except (requests.exceptions.ConnectionError,\n",
    "            requests.exceptions.ChunkedEncodingError,\n",
    "            ConnectionResetError,\n",
    "            urllib3.exceptions.ProtocolError,\n",
    "            ) as e:\n",
    "            now = datetime.now().strftime(\"%Y-%m-%d %H:%M:%S\")\n",
    "            print(f\"[{now}] at {func.__name__} ConnectionError occur.. {e}\")\n",
    "            time.sleep(reconnection_time)\n",
    "        except AttributeError as e:\n",
    "            now = datetime.now().strftime(\"%Y-%m-%d %H:%M:%S\")\n",
    "            print(f\"[{now}] at {func.__name__} AttributeError occur.. {e}\")\n",
    "            time.sleep(reconnection_time)  \n",
    "    return wrapper\n",
    "```"
   ]
  },
  {
   "cell_type": "markdown",
   "metadata": {},
   "source": [
    "```python\n",
    "# from web_scrapper/module/blog.py\n",
    "# written by wonbin kim\n",
    "# 2023.09.01. 14:00 Version\n",
    "\n",
    "# function of Scrapper_Blog class  \n",
    "@Scrapper.Reconnection\n",
    "def _get_latest_text_id_brunch(self,\n",
    "    target : str, # blog type\n",
    "    user_id : str,\n",
    "    **kwargs\n",
    "):\n",
    "    \"\"\"Blog user id를 통해 가장 최신글 번호를 확인하는 함수\"\"\"\n",
    "    url = self.BLOG[target][\"list_url\"].format(user_id=user_id)\n",
    "    \n",
    "    xtree = self.get_xtree(url, **kwargs)\n",
    "    \n",
    "    links = []\n",
    "    \n",
    "    for item in xtree.findall(\".//item\"):\n",
    "        link = item.find(\"guid\").text\n",
    "        links.append(link)\n",
    "    \n",
    "    max_link = max(links)\n",
    "    \n",
    "    max_idx = int(max_link.split(\"/\")[-1])\n",
    "    \n",
    "    if max_idx > 10000:\n",
    "        raise ValueError(target, user_id, max_idx,\n",
    "             \"a number of post is more than 10000\")\n",
    "    \n",
    "    return max_idx\n",
    "```"
   ]
  }
 ],
 "metadata": {
  "kernelspec": {
   "display_name": "crawler",
   "language": "python",
   "name": "python3"
  },
  "language_info": {
   "codemirror_mode": {
    "name": "ipython",
    "version": 3
   },
   "file_extension": ".py",
   "mimetype": "text/x-python",
   "name": "python",
   "nbconvert_exporter": "python",
   "pygments_lexer": "ipython3",
   "version": "3.9.17"
  },
  "orig_nbformat": 4
 },
 "nbformat": 4,
 "nbformat_minor": 2
}
