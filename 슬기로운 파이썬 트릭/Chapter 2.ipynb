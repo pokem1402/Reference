{
 "cells": [
  {
   "cell_type": "code",
   "execution_count": 1,
   "metadata": {},
   "outputs": [],
   "source": [
    "# for colab\n",
    "try:\n",
    "  import google.colab\n",
    "  IN_COLAB = True\n",
    "  !git clone https://github.com/pokem1402/Reference.git\n",
    "except:\n",
    "  IN_COLAB = False"
   ]
  },
  {
   "cell_type": "markdown",
   "metadata": {},
   "source": [
    "# (1) assert\n",
    "\n",
    "- Release Mode (with python augment -O)"
   ]
  },
  {
   "cell_type": "code",
   "execution_count": 2,
   "metadata": {},
   "outputs": [],
   "source": [
    "def divide(\n",
    "    a : int,\n",
    "    b : int,\n",
    ") -> float:\n",
    "    \n",
    "    assert b != 0, \"b must be non-zero\"\n",
    "    return a/b"
   ]
  },
  {
   "cell_type": "code",
   "execution_count": 3,
   "metadata": {},
   "outputs": [
    {
     "ename": "AssertionError",
     "evalue": "b must be non-zero",
     "output_type": "error",
     "traceback": [
      "\u001b[1;31m---------------------------------------------------------------------------\u001b[0m",
      "\u001b[1;31mAssertionError\u001b[0m                            Traceback (most recent call last)",
      "Cell \u001b[1;32mIn[3], line 1\u001b[0m\n\u001b[1;32m----> 1\u001b[0m divide(\u001b[39m3\u001b[39;49m,\u001b[39m0\u001b[39;49m)\n",
      "Cell \u001b[1;32mIn[2], line 6\u001b[0m, in \u001b[0;36mdivide\u001b[1;34m(a, b)\u001b[0m\n\u001b[0;32m      1\u001b[0m \u001b[39mdef\u001b[39;00m \u001b[39mdivide\u001b[39m(\n\u001b[0;32m      2\u001b[0m     a : \u001b[39mint\u001b[39m,\n\u001b[0;32m      3\u001b[0m     b : \u001b[39mint\u001b[39m,\n\u001b[0;32m      4\u001b[0m ) \u001b[39m-\u001b[39m\u001b[39m>\u001b[39m \u001b[39mfloat\u001b[39m:\n\u001b[1;32m----> 6\u001b[0m     \u001b[39massert\u001b[39;00m b \u001b[39m!=\u001b[39m \u001b[39m0\u001b[39m, \u001b[39m\"\u001b[39m\u001b[39mb must be non-zero\u001b[39m\u001b[39m\"\u001b[39m\n\u001b[0;32m      7\u001b[0m     \u001b[39mreturn\u001b[39;00m a\u001b[39m/\u001b[39mb\n",
      "\u001b[1;31mAssertionError\u001b[0m: b must be non-zero"
     ]
    }
   ],
   "source": [
    "divide(3,0)"
   ]
  },
  {
   "cell_type": "code",
   "execution_count": 4,
   "metadata": {},
   "outputs": [],
   "source": [
    "# from web_scrapper/module/patent.py\n",
    "# written by wonbin kim\n",
    "# 2023.08.30. 14:00 Version\n",
    "\n",
    "class Scrapper_Patent(\n",
    "    # Scrapper\n",
    "    ):\n",
    "    \n",
    "    CONFIG = {\n",
    "        'base_url' : \"http://kpat.kipris.or.kr/kpat/{patent_number}.pdf?method=fullText&applno={patent_number}&pub_reg={pub_reg}&fileKind=undefined\",\n",
    "        'pub_reg' : [\n",
    "            'R', # Registerd, 등록\n",
    "            'P', # Public, 공개\n",
    "        ]\n",
    "    }\n",
    "   \n",
    "    # def __init__(self):\n",
    "        # super().__init__(\"\")\n",
    "\n",
    "    @staticmethod\n",
    "    def get_pdf_url(\n",
    "        patent_number:int or str,\n",
    "        pub_reg : str = \"R\"\n",
    "    ) -> str:\n",
    "        \"\"\"Get the url of a patent pdf file.\"\"\"\n",
    "        if isinstance(patent_number, str):\n",
    "            patent_number = patent_number.replace(\"-\", \"\")\n",
    "                        \n",
    "        return Scrapper_Patent.CONFIG['base_url'].format(\n",
    "            patent_number=patent_number,\n",
    "            pub_reg = pub_reg,\n",
    "        )\n",
    "\n",
    "        \n",
    "    @staticmethod\n",
    "    def get_pdf_url_except(\n",
    "        patent_number:int or str,\n",
    "        pub_reg : str = \"R\"\n",
    "    ) -> str:\n",
    "        \"\"\"Get the url of a patent pdf file, error handling with except\"\"\"\n",
    "        \n",
    "        if isinstance(patent_number, str):\n",
    "            patent_number = patent_number.replace(\"-\", \"\")\n",
    "        \n",
    "        if len(str(patent_number)) != 13:\n",
    "            raise ValueError(\"특허번호는 13자리\", patent_number)\n",
    "        \n",
    "        if pub_reg not in Scrapper_Patent.CONFIG['pub_reg']:\n",
    "            raise ValueError(\"타입은 P(공개) 혹은 R(등록)\")\n",
    "        \n",
    "        return Scrapper_Patent.CONFIG['base_url'].format(\n",
    "            patent_number=patent_number,\n",
    "            pub_reg = pub_reg,\n",
    "        )\n",
    "    \n",
    "    @staticmethod\n",
    "    def get_pdf_url_assert(\n",
    "        patent_number:int or str,\n",
    "        pub_reg : str = \"R\"\n",
    "    ) -> str:\n",
    "        \"\"\"Get the url of a patent pdf file. error handling with assert\"\"\"\n",
    "        \n",
    "        if isinstance(patent_number, str):\n",
    "            patent_number = patent_number.replace(\"-\", \"\")\n",
    "        \n",
    "        assert len(str(patent_number)) == 13, f\"특허번호는 13자리, {patent_number}\"\n",
    "\n",
    "        assert pub_reg in Scrapper_Patent.CONFIG['pub_reg'], \"타입은 P(공개) 혹은 R(등록)\"       \n",
    "        \n",
    "        return Scrapper_Patent.CONFIG['base_url'].format(\n",
    "            patent_number=patent_number,\n",
    "            pub_reg = pub_reg,\n",
    "        )"
   ]
  },
  {
   "cell_type": "code",
   "execution_count": 5,
   "metadata": {},
   "outputs": [],
   "source": [
    "if IN_COLAB:\n",
    "    path = \"./Reference/슬기로운\\ 파이썬\\ 트릭/scrap.py\"\n",
    "else:\n",
    "    path = \"./scrap.py\""
   ]
  },
  {
   "cell_type": "code",
   "execution_count": 6,
   "metadata": {},
   "outputs": [
    {
     "name": "stdout",
     "output_type": "stream",
     "text": [
      "입력한 번호 : 10-1972-0000009\n",
      "Debug run.\n",
      "get_pdf_url\n",
      "http://kpat.kipris.or.kr/kpat/1019720000009.pdf?method=fullText&applno=1019720000009&pub_reg=R&fileKind=undefined\n",
      "get_pdf_url_assert:\n",
      "http://kpat.kipris.or.kr/kpat/1019720000009.pdf?method=fullText&applno=1019720000009&pub_reg=R&fileKind=undefined\n",
      "get_pdf_url_except: \n",
      "http://kpat.kipris.or.kr/kpat/1019720000009.pdf?method=fullText&applno=1019720000009&pub_reg=R&fileKind=undefined\n"
     ]
    }
   ],
   "source": [
    "# chapter_2.py 는 위의 코드에 추가 parameter를 입력하기 위한 내용이 추가됨\n",
    "!python {path}"
   ]
  },
  {
   "cell_type": "code",
   "execution_count": 7,
   "metadata": {},
   "outputs": [
    {
     "name": "stdout",
     "output_type": "stream",
     "text": [
      "입력한 번호 : 10-197-012345\n",
      "Debug run.\n",
      "get_pdf_url\n",
      "http://kpat.kipris.or.kr/kpat/10197012345.pdf?method=fullText&applno=10197012345&pub_reg=R&fileKind=undefined\n",
      "get_pdf_url_assert:\n",
      "get_pdf_url_except: \n"
     ]
    },
    {
     "name": "stderr",
     "output_type": "stream",
     "text": [
      "Traceback (most recent call last):\n",
      "  File \"c:\\workspace\\Rainbow Brain\\python\\Seminar\\Reference\\슬기로운 파이썬 트릭\\scrap.py\", line 109, in <module>\n",
      "    print(scrapper.get_pdf_url_assert(patent_number, args.type))\n",
      "  File \"c:\\workspace\\Rainbow Brain\\python\\Seminar\\Reference\\슬기로운 파이썬 트릭\\scrap.py\", line 68, in get_pdf_url_assert\n",
      "    assert len(str(patent_number)) == 13, \"특허번호는 13자리\"\n",
      "AssertionError: 특허번호는 13자리\n",
      "Traceback (most recent call last):\n",
      "  File \"c:\\workspace\\Rainbow Brain\\python\\Seminar\\Reference\\슬기로운 파이썬 트릭\\scrap.py\", line 115, in <module>\n",
      "    print(scrapper.get_pdf_url_except(patent_number, args.type))\n",
      "  File \"c:\\workspace\\Rainbow Brain\\python\\Seminar\\Reference\\슬기로운 파이썬 트릭\\scrap.py\", line 48, in get_pdf_url_except\n",
      "    raise ValueError(\"특허번호는 13자리\")\n",
      "ValueError: 특허번호는 13자리\n"
     ]
    }
   ],
   "source": [
    "# 출원번호 형식 (여기에서는 13자리만 만족하면 됨) 에 맞지 않는 값을 넣었을 떄의 작동 양태\n",
    "!python {path} -p 10-197-012345"
   ]
  },
  {
   "cell_type": "code",
   "execution_count": 8,
   "metadata": {},
   "outputs": [
    {
     "name": "stdout",
     "output_type": "stream",
     "text": [
      "입력한 번호 : 10-197-012345\n",
      "Release Run.\n",
      "get_pdf_url\n",
      "http://kpat.kipris.or.kr/kpat/10197012345.pdf?method=fullText&applno=10197012345&pub_reg=R&fileKind=undefined\n",
      "get_pdf_url_assert:\n",
      "http://kpat.kipris.or.kr/kpat/10197012345.pdf?method=fullText&applno=10197012345&pub_reg=R&fileKind=undefined\n",
      "get_pdf_url_except: \n"
     ]
    },
    {
     "name": "stderr",
     "output_type": "stream",
     "text": [
      "Traceback (most recent call last):\n",
      "  File \"c:\\workspace\\Rainbow Brain\\python\\Seminar\\Reference\\슬기로운 파이썬 트릭\\scrap.py\", line 115, in <module>\n",
      "    print(scrapper.get_pdf_url_except(patent_number, args.type))\n",
      "  File \"c:\\workspace\\Rainbow Brain\\python\\Seminar\\Reference\\슬기로운 파이썬 트릭\\scrap.py\", line 48, in get_pdf_url_except\n",
      "    raise ValueError(\"특허번호는 13자리\")\n",
      "ValueError: 특허번호는 13자리\n"
     ]
    }
   ],
   "source": [
    "# python에 -o augment를 통해 assert statement와 __debug__ 전역 변수의 값을 제거한 경우\n",
    "# https://docs.python.org/3/using/cmdline.html#cmdoption-O\n",
    "!python -O {path} -p 10-197-012345"
   ]
  },
  {
   "cell_type": "markdown",
   "metadata": {},
   "source": [
    "- assert를 사용할 때의 주의점"
   ]
  },
  {
   "cell_type": "code",
   "execution_count": 9,
   "metadata": {},
   "outputs": [
    {
     "name": "stderr",
     "output_type": "stream",
     "text": [
      "<>:2: SyntaxWarning: assertion is always true, perhaps remove parentheses?\n",
      "<>:2: SyntaxWarning: assertion is always true, perhaps remove parentheses?\n"
     ]
    },
    {
     "ename": "AssertionError",
     "evalue": "실패",
     "output_type": "error",
     "traceback": [
      "\u001b[1;31m---------------------------------------------------------------------------\u001b[0m",
      "\u001b[1;31mAssertionError\u001b[0m                            Traceback (most recent call last)",
      "Cell \u001b[1;32mIn[9], line 1\u001b[0m\n\u001b[1;32m----> 1\u001b[0m \u001b[39massert\u001b[39;00m \u001b[39m1\u001b[39m \u001b[39m==\u001b[39m \u001b[39m2\u001b[39m, \u001b[39m'\u001b[39m\u001b[39m실패\u001b[39m\u001b[39m'\u001b[39m \u001b[39m# 일반적인 Python 힘수 형태와 다른 형식\u001b[39;00m\n\u001b[0;32m      2\u001b[0m \u001b[39massert\u001b[39;00m (\u001b[39m1\u001b[39m\u001b[39m==\u001b[39m\u001b[39m2\u001b[39m, \u001b[39m'\u001b[39m\u001b[39m실패\u001b[39m\u001b[39m'\u001b[39m)\n",
      "\u001b[1;31mAssertionError\u001b[0m: 실패"
     ]
    }
   ],
   "source": [
    "assert 1 == 2, '실패' # 일반적인 Python 힘수 형태와 다른 형식\n",
    "assert (1==2, '실패') # 아래 SyntaxWarning 처럼 값이 존재하는 Tuple은 언제나 참"
   ]
  },
  {
   "cell_type": "markdown",
   "metadata": {},
   "source": [
    "# (2) 쉼표 배치"
   ]
  },
  {
   "cell_type": "code",
   "execution_count": 10,
   "metadata": {},
   "outputs": [
    {
     "ename": "ValueError",
     "evalue": "('특허번호는 13자리', '1020120123456R')",
     "output_type": "error",
     "traceback": [
      "\u001b[1;31m---------------------------------------------------------------------------\u001b[0m",
      "\u001b[1;31mValueError\u001b[0m                                Traceback (most recent call last)",
      "Cell \u001b[1;32mIn[10], line 1\u001b[0m\n\u001b[1;32m----> 1\u001b[0m Scrapper_Patent\u001b[39m.\u001b[39;49mget_pdf_url_except(\u001b[39m\"\u001b[39;49m\u001b[39m1020120123456\u001b[39;49m\u001b[39m\"\u001b[39;49m \u001b[39m# <- 쉼표를 빼먹은 경우, 두 문자열이 합쳐짐\u001b[39;49;00m\n\u001b[0;32m      2\u001b[0m                                    \u001b[39m\"\u001b[39;49m\u001b[39mR\u001b[39;49m\u001b[39m\"\u001b[39;49m)\n",
      "Cell \u001b[1;32mIn[4], line 46\u001b[0m, in \u001b[0;36mScrapper_Patent.get_pdf_url_except\u001b[1;34m(patent_number, pub_reg)\u001b[0m\n\u001b[0;32m     43\u001b[0m     patent_number \u001b[39m=\u001b[39m patent_number\u001b[39m.\u001b[39mreplace(\u001b[39m\"\u001b[39m\u001b[39m-\u001b[39m\u001b[39m\"\u001b[39m, \u001b[39m\"\u001b[39m\u001b[39m\"\u001b[39m)\n\u001b[0;32m     45\u001b[0m \u001b[39mif\u001b[39;00m \u001b[39mlen\u001b[39m(\u001b[39mstr\u001b[39m(patent_number)) \u001b[39m!=\u001b[39m \u001b[39m13\u001b[39m:\n\u001b[1;32m---> 46\u001b[0m     \u001b[39mraise\u001b[39;00m \u001b[39mValueError\u001b[39;00m(\u001b[39m\"\u001b[39m\u001b[39m특허번호는 13자리\u001b[39m\u001b[39m\"\u001b[39m, patent_number)\n\u001b[0;32m     48\u001b[0m \u001b[39mif\u001b[39;00m pub_reg \u001b[39mnot\u001b[39;00m \u001b[39min\u001b[39;00m Scrapper_Patent\u001b[39m.\u001b[39mCONFIG[\u001b[39m'\u001b[39m\u001b[39mpub_reg\u001b[39m\u001b[39m'\u001b[39m]:\n\u001b[0;32m     49\u001b[0m     \u001b[39mraise\u001b[39;00m \u001b[39mValueError\u001b[39;00m(\u001b[39m\"\u001b[39m\u001b[39m타입은 P(공개) 혹은 R(등록)\u001b[39m\u001b[39m\"\u001b[39m)\n",
      "\u001b[1;31mValueError\u001b[0m: ('특허번호는 13자리', '1020120123456R')"
     ]
    }
   ],
   "source": [
    "Scrapper_Patent.get_pdf_url_except(\"1020120123456\" # <- 쉼표를 빼먹은 경우, 두 문자열이 합쳐짐\n",
    "                                   \"R\")"
   ]
  },
  {
   "cell_type": "markdown",
   "metadata": {},
   "source": [
    "# Context Manager and With statement"
   ]
  },
  {
   "cell_type": "markdown",
   "metadata": {},
   "source": [
    "```python\n",
    "# from web_scrapper/module/news_.py\n",
    "# written by wonbin kim\n",
    "# 2023.08.30. 14:00 Version\n",
    "\n",
    "# function of Scrapper_News_ class         \n",
    "def _get_texts_nate(self,\n",
    "    target : str,\n",
    "    idx : int,\n",
    "    time_delay : int = 10,\n",
    "    reconnection_time : int = 10,\n",
    "    disallow : set = {},\n",
    "    **kwargs\n",
    ") -> List[dict]:\n",
    "    \"\"\"Get articles from the nate\"\"\"\n",
    "    \n",
    "    PRESS = self.PRESS[target]\n",
    "    \n",
    "    date = datetime.strptime(str(idx), self.YEARMMDD)\n",
    "    \n",
    "    date_show = date.strftime(self.YEAR_MM_DD.format(_=\"/\"))\n",
    "    # get max_page\n",
    "    max_page_url = PRESS['base_url'].format(prefix=\"\")+PRESS[\"list_url\"].format(date=str(idx), page=1000)\n",
    "    soup = self.get_html_soup(max_page_url, **kwargs)\n",
    "    pages = [int(tag.text) for tag in soup.find_all(**PRESS[\"page_kwargs\"]) if tag.text.isdigit()]\n",
    "    \n",
    "    articles = []\n",
    "    \n",
    "    if pages:\n",
    "        max_page = int(max(pages))\n",
    "        \n",
    "        for page_num in range(1, max_page+1):\n",
    "            while True:\n",
    "                page_url = PRESS['base_url'].format(prefix=\"\")+PRESS['list_url'].format(date=str(idx), page=page_num)\n",
    "                    try:\n",
    "                        soup = self.get_html_soup(page_url, **kwargs)\n",
    "                        \n",
    "                        articles_parent = soup.find(**PRESS[\"articles_parent_kwargs\"])                    \n",
    "                        articles_href = [article['href'] for article in articles_parent.find_all(**PRESS[\"articles_kwargs\"])]\n",
    "                        break\n",
    "                    except (requests.exceptions.ConnectionError,\n",
    "                            requests.exceptions.ChunkedEncodingError,\n",
    "                            ConnectionResetError,\n",
    "                            urllib3.exceptions.ProtocolError,\n",
    "                            ) as e:\n",
    "                        now = datetime.now().strftime(\"%Y-%m-%d %H:%M:%S\")\n",
    "                        print(f\"[{now}] at {date} : {url} ConnectionError occur.. {e}\")\n",
    "                        time.sleep(reconnection_time)\n",
    "                    except AttributeError as e:\n",
    "                        now = datetime.now().strftime(\"%Y-%m-%d %H:%M:%S\")\n",
    "                        print(f\"[{now}] at {date} : {url} AttributeError occur.. {e}\")\n",
    "                        time.sleep(reconnection_time)  \n",
    "                \n",
    "            for article_href in articles_href:\n",
    "                                \n",
    "                article_href = PRESS['base_url'].format(prefix=\"m.\")+article_href\n",
    "                while True:\n",
    "                    try:\n",
    "                        time.sleep(time_delay)\n",
    "                        article = {column : None for column in self.COLUMNS}\n",
    "                        \n",
    "                        soup = self.get_html_soup(article_href, **kwargs)\n",
    "                        \n",
    "                        # get title\n",
    "                        title = soup.find(**PRESS[\"title_kwargs\"])\n",
    "                        article['title'] = title.text.strip()\n",
    "                        \n",
    "                        # get medium\n",
    "                        press = soup.find(**PRESS['press_kwargs'])\n",
    "                        press.span.extract()\n",
    "                        article['press'] = press.em.text\n",
    "                        \n",
    "                        # get text\n",
    "                        text = soup.find(**PRESS['text_kwargs'])\n",
    "                        \n",
    "                        for remove in text.find_all(**PRESS[\"text_remove_kwargs\"]):\n",
    "                            remove.extract()\n",
    "                            \n",
    "                        article['text'] = text.text.strip()\n",
    "                        \n",
    "                        # remove recommendation\n",
    "                        _matches = re.search(PRESS['text_regex'], article['text'])\n",
    "                        matches = None\n",
    "                        end_loc = 0\n",
    "                        count = 0\n",
    "                        \n",
    "                        while _matches:\n",
    "                            end_loc += _matches.end()\n",
    "                            matches = _matches\n",
    "                            _matches = re.search(PRESS['text_regex'], article['text'][end_loc:])\n",
    "                        \n",
    "                        if matches:\n",
    "                            article['text'] = article['text'][:end_loc]\n",
    "                        \n",
    "                        article['text'] = article['text'].replace(\"\\r\", \"\")\n",
    "\n",
    "                        # add url\n",
    "                        article['url'] = article_href\n",
    "                        \n",
    "                        # add date\n",
    "                        article['date'] = idx\n",
    "                        \n",
    "                        # append\n",
    "                        articles.append(article)\n",
    "                        pbar.update(1)\n",
    "                        break\n",
    "                    except (requests.exceptions.ConnectionError,\n",
    "                            requests.exceptions.ChunkedEncodingError,\n",
    "                            ConnectionResetError,\n",
    "                            urllib3.exceptions.ProtocolError,\n",
    "                            ) as e:\n",
    "                        now = datetime.now().strftime(\"%Y-%m-%d %H:%M:%S\")\n",
    "                        print(f\"[{now}] at {date} : {url} ConnectionError occur.. {e}\")\n",
    "                        time.sleep(reconnection_time)\n",
    "                    except AttributeError as e:\n",
    "                        now = datetime.now().strftime(\"%Y-%m-%d %H:%M:%S\")\n",
    "                        print(f\"[{now}] at {date} : {url} AttributeError occur.. {e}\")\n",
    "                        time.sleep(reconnection_time)  \n",
    "    return articles  \n",
    "```"
   ]
  },
  {
   "cell_type": "markdown",
   "metadata": {},
   "source": [
    "- ContextManager 및 with 사용\n",
    "  - 모든 URL 처리를 해야하는 부분마다 error handling code를 따로 사용할 필요가 없어짐\n",
    "\n",
    "```python\n",
    "# from web_scrapper/module/news_.py\n",
    "# written by wonbin kim\n",
    "# 2023.08.30. 14:00 Version\n",
    "\n",
    "# function of Scrapper_News_ class \n",
    "@contextmanager\n",
    "def connectManager(self,\n",
    "    url : str,\n",
    "    date : str,\n",
    "    reconnection_time : int,\n",
    "    **kwargs,\n",
    ")-> None:\n",
    "    \n",
    "    try:\n",
    "        yield None\n",
    "        \n",
    "    except (requests.exceptions.ConnectionError,\n",
    "            requests.exceptions.ChunkedEncodingError,\n",
    "            ConnectionResetError,\n",
    "            urllib3.exceptions.ProtocolError,\n",
    "            ) as e:\n",
    "        now = datetime.now().strftime(\"%Y-%m-%d %H:%M:%S\")\n",
    "        print(f\"[{now}] at {date} : {url} ConnectionError occur.. {e}\")\n",
    "        time.sleep(reconnection_time)\n",
    "    except AttributeError as e:\n",
    "        now = datetime.now().strftime(\"%Y-%m-%d %H:%M:%S\")\n",
    "        print(f\"[{now}] at {date} : {url} AttributeError occur.. {e}\")\n",
    "        time.sleep(reconnection_time)  \n",
    "        \n",
    "def _get_texts_nate(self,\n",
    "    target : str,\n",
    "    idx : int,\n",
    "    time_delay : int = 10,\n",
    "    reconnection_time : int = 10,\n",
    "    disallow : set = {},\n",
    "    **kwargs\n",
    ") -> List[dict]:\n",
    "    \"\"\"Get articles from the nate\"\"\"\n",
    "    \n",
    "    PRESS = self.PRESS[target]\n",
    "    \n",
    "    date = datetime.strptime(str(idx), self.YEARMMDD)\n",
    "    \n",
    "    date_show = date.strftime(self.YEAR_MM_DD.format(_=\"/\"))\n",
    "    # get max_page\n",
    "    max_page_url = PRESS['base_url'].format(prefix=\"\")+PRESS[\"list_url\"].format(date=str(idx), page=1000)\n",
    "    soup = self.get_html_soup(max_page_url, **kwargs)\n",
    "    pages = [int(tag.text) for tag in soup.find_all(**PRESS[\"page_kwargs\"]) if tag.text.isdigit()]\n",
    "    \n",
    "    articles = []\n",
    "    \n",
    "    if pages:\n",
    "        max_page = int(max(pages))\n",
    "        \n",
    "        for page_num in range(1, max_page+1):\n",
    "            while True:\n",
    "                page_url = PRESS['base_url'].format(prefix=\"\")+PRESS['list_url'].format(date=str(idx), page=page_num)\n",
    "\n",
    "                with self.connectManager(page_url, date_show, reconnection_time) as cm:\n",
    "                    soup = self.get_html_soup(page_url, **kwargs)\n",
    "                    \n",
    "                    articles_parent = soup.find(**PRESS[\"articles_parent_kwargs\"])                    \n",
    "                    articles_href = [article['href'] for article in articles_parent.find_all(**PRESS[\"articles_kwargs\"])]\n",
    "                    break\n",
    "                \n",
    "            for article_href in articles_href:\n",
    "                                \n",
    "                article_href = PRESS['base_url'].format(prefix=\"m.\")+article_href\n",
    "                while True:\n",
    "                    with self.connectManager(article_href, date_show, reconnection_time) as cm:\n",
    "                        time.sleep(time_delay)\n",
    "                        article = {column : None for column in self.COLUMNS}\n",
    "                        \n",
    "                        soup = self.get_html_soup(article_href, **kwargs)\n",
    "                        \n",
    "                        # get title\n",
    "                        title = soup.find(**PRESS[\"title_kwargs\"])\n",
    "                        article['title'] = title.text.strip()\n",
    "                        \n",
    "                        # get medium\n",
    "                        press = soup.find(**PRESS['press_kwargs'])\n",
    "                        press.span.extract()\n",
    "                        article['press'] = press.em.text\n",
    "                        \n",
    "                        # get text\n",
    "                        text = soup.find(**PRESS['text_kwargs'])\n",
    "                        \n",
    "                        for remove in text.find_all(**PRESS[\"text_remove_kwargs\"]):\n",
    "                            remove.extract()\n",
    "                            \n",
    "                        article['text'] = text.text.strip()\n",
    "                        \n",
    "                        # remove recommendation\n",
    "                        _matches = re.search(PRESS['text_regex'], article['text'])\n",
    "                        matches = None\n",
    "                        end_loc = 0\n",
    "                        count = 0\n",
    "                        \n",
    "                        while _matches:\n",
    "                            end_loc += _matches.end()\n",
    "                            matches = _matches\n",
    "                            _matches = re.search(PRESS['text_regex'], article['text'][end_loc:])\n",
    "                        \n",
    "                        if matches:\n",
    "                            article['text'] = article['text'][:end_loc]\n",
    "                        \n",
    "                        article['text'] = article['text'].replace(\"\\r\", \"\")\n",
    "\n",
    "                        # add url\n",
    "                        article['url'] = article_href\n",
    "                        \n",
    "                        # add date\n",
    "                        article['date'] = idx\n",
    "                        \n",
    "                        # append\n",
    "                        articles.append(article)\n",
    "                        pbar.update(1)\n",
    "                        break\n",
    "    return articles  \n",
    "```"
   ]
  },
  {
   "cell_type": "code",
   "execution_count": 11,
   "metadata": {},
   "outputs": [],
   "source": [
    "class Formatter:\n",
    "    \n",
    "    prefix = [\n",
    "        \"○\",\n",
    "        \"●\",\n",
    "        \"◎\",\n",
    "        \"◇\",\n",
    "        \"◆\",\n",
    "    ]\n",
    "    \n",
    "    def __init__(self):\n",
    "        self.level = -1\n",
    "        \n",
    "    def __enter__(self):\n",
    "        self.level += 1\n",
    "        return self\n",
    "        \n",
    "    def __exit__(self,\n",
    "        *args,\n",
    "        **kwags\n",
    "    ):\n",
    "        self.level -= 1\n",
    "    \n",
    "    def print(self,\n",
    "        text:str\n",
    "    ) -> None:\n",
    "        \n",
    "        try:\n",
    "            prefix = self.prefix[self.level]\n",
    "        except KeyError:\n",
    "            prefix = self.prefix[-1]    \n",
    "        print(\" \"*self.level+prefix+\" \"+text)"
   ]
  },
  {
   "cell_type": "code",
   "execution_count": 12,
   "metadata": {},
   "outputs": [
    {
     "name": "stdout",
     "output_type": "stream",
     "text": [
      "○ Chapter 2\n",
      " ● Assert 문으로 방어하기\n",
      " ● 보기 좋은 쉼표 배치\n",
      " ● ContextManager and With statement\n",
      "  ◎ 콘텍스트 매니저로 예쁜 API 작성하기\n",
      "   ◇ 작성 예시\n"
     ]
    }
   ],
   "source": [
    "with Formatter() as indent:\n",
    "    indent.print(\"Chapter 2\")\n",
    "    with indent:\n",
    "        indent.print(\"Assert 문으로 방어하기\")\n",
    "    with indent:\n",
    "        indent.print(\"보기 좋은 쉼표 배치\")\n",
    "    with indent:\n",
    "        indent.print(\"ContextManager and With statement\")\n",
    "        with indent:\n",
    "            indent.print(\"콘텍스트 매니저로 예쁜 API 작성하기\")\n",
    "            with indent:\n",
    "                indent.print(\"작성 예시\")"
   ]
  },
  {
   "cell_type": "markdown",
   "metadata": {},
   "source": [
    "# (4) 밑줄 문자와 던더"
   ]
  },
  {
   "cell_type": "code",
   "execution_count": 13,
   "metadata": {},
   "outputs": [],
   "source": [
    "# 이중 밑줄 접두사\n",
    "\n",
    "class Person:\n",
    "    \n",
    "    def func1(self):\n",
    "        print(\"person func1\")\n",
    "\n",
    "    def __func2(self):\n",
    "        print(\"person __func2\")\n",
    "\n",
    "    def __call__(self):\n",
    "        print(\"-----Person call-----\")\n",
    "        self.func1()\n",
    "        self.__func2()\n",
    "        print(\"-----end-----\")\n",
    "\n",
    "class Student(Person):\n",
    "    \n",
    "    def func1(self):\n",
    "        print(\"student func1\")\n",
    "    \n",
    "    def __func2(self):\n",
    "        print(\"student __func2\")\n",
    "    \n",
    "    def __call__(self):\n",
    "        print(\"-----Student Call-----\")\n",
    "\n",
    "        self.func1()\n",
    "        self.__func2()\n",
    "        print(\"-----end-----\")\n",
    "    \n",
    "    def all(self):\n",
    "        print(\"-----Student All-----\")\n",
    "\n",
    "        super().func1()\n",
    "        try:\n",
    "            super().__func2()\n",
    "        except AttributeError as e:\n",
    "            print(e)\n",
    "        self.func1()\n",
    "        self.__func2()\n",
    "        super().__call__()\n",
    "        print(\"-----end-----\")\n"
   ]
  },
  {
   "cell_type": "code",
   "execution_count": 14,
   "metadata": {},
   "outputs": [
    {
     "name": "stdout",
     "output_type": "stream",
     "text": [
      "-----Person call-----\n",
      "person func1\n",
      "person __func2\n",
      "-----end-----\n",
      "-----Student Call-----\n",
      "student func1\n",
      "student __func2\n",
      "-----end-----\n",
      "-----Student All-----\n",
      "person func1\n",
      "'super' object has no attribute '_Student__func2'\n",
      "student func1\n",
      "student __func2\n",
      "-----Person call-----\n",
      "student func1\n",
      "person __func2\n",
      "-----end-----\n",
      "-----end-----\n"
     ]
    }
   ],
   "source": [
    "person = Person()\n",
    "student = Student()\n",
    "\n",
    "person()\n",
    "student()\n",
    "student.all()"
   ]
  },
  {
   "cell_type": "markdown",
   "metadata": {},
   "source": [
    "# (5) 문자열 형식화"
   ]
  },
  {
   "cell_type": "code",
   "execution_count": 15,
   "metadata": {},
   "outputs": [],
   "source": [
    "patent_number = '[PATENT_NUMBER]'\n",
    "pub_reg = '[PUB_REG]'"
   ]
  },
  {
   "cell_type": "code",
   "execution_count": 16,
   "metadata": {},
   "outputs": [
    {
     "name": "stdout",
     "output_type": "stream",
     "text": [
      "http://kpat.kipris.or.kr/kpat/[PATENT_NUMBER].pdf?method=fullText&applno=[PATENT_NUMBER]&pub_reg=[PUB_REG]&fileKind=undefined\n",
      "http://kpat.kipris.or.kr/kpat/[PATENT_NUMBER].pdf?method=fullText&applno=[PATENT_NUMBER]&pub_reg=[PUB_REG]&fileKind=undefined\n"
     ]
    }
   ],
   "source": [
    "# 1. '구식' 문자열 형식화\n",
    "\n",
    "url = \"http://kpat.kipris.or.kr/kpat/%s.pdf?method=fullText&applno=%s&pub_reg=%s&fileKind=undefined\"\n",
    "\n",
    "print(url % (patent_number, patent_number, pub_reg))\n",
    "\n",
    "url = \"http://kpat.kipris.or.kr/kpat/%(patent_number)s.pdf?method=fullText&applno=%(patent_number)s&pub_reg=%(pub_reg)s&fileKind=undefined\"\n",
    "\n",
    "print(url % {\"patent_number\" : patent_number, \"pub_reg\":pub_reg})"
   ]
  },
  {
   "cell_type": "code",
   "execution_count": 17,
   "metadata": {},
   "outputs": [
    {
     "name": "stdout",
     "output_type": "stream",
     "text": [
      "http://kpat.kipris.or.kr/kpat/[PATENT_NUMBER].pdf?method=fullText&applno=[PATENT_NUMBER]&pub_reg=[PUB_REG]&fileKind=undefined\n",
      "http://kpat.kipris.or.kr/kpat/[PATENT_NUMBER].pdf?method=fullText&applno=[PATENT_NUMBER]&pub_reg=[PUB_REG]&fileKind=undefined\n"
     ]
    }
   ],
   "source": [
    "# 2. '신식' 문자열 형식\n",
    "url = \"http://kpat.kipris.or.kr/kpat/{}.pdf?method=fullText&applno={}&pub_reg={}&fileKind=undefined\"\n",
    "\n",
    "print(url.format(patent_number, patent_number, pub_reg))\n",
    "\n",
    "url = \"http://kpat.kipris.or.kr/kpat/{patent_number}.pdf?method=fullText&applno={patent_number}&pub_reg={pub_reg}&fileKind=undefined\"\n",
    "\n",
    "print(url.format(patent_number = patent_number,\n",
    "                 pub_reg = pub_reg))\n"
   ]
  },
  {
   "cell_type": "code",
   "execution_count": 18,
   "metadata": {},
   "outputs": [
    {
     "name": "stdout",
     "output_type": "stream",
     "text": [
      "http://kpat.kipris.or.kr/kpat/[PATENT_NUMBER].pdf?method=fullText&applno=[PATENT_NUMBER]&pub_reg=[PUB_REG]&fileKind=undefined\n"
     ]
    }
   ],
   "source": [
    "# 3. 리터럴 문자열 삽입\n",
    "\n",
    "url = f\"http://kpat.kipris.or.kr/kpat/{patent_number}.pdf?method=fullText&applno={patent_number}&pub_reg={pub_reg}&fileKind=undefined\"\n",
    "\n",
    "print(url)\n"
   ]
  },
  {
   "cell_type": "code",
   "execution_count": 19,
   "metadata": {},
   "outputs": [
    {
     "name": "stdout",
     "output_type": "stream",
     "text": [
      "http://kpat.kipris.or.kr/kpat/[PATENT_NUMBER].pdf?method=fullText&applno=[PATENT_NUMBER]&pub_reg=[PUB_REG]&fileKind=undefined\n"
     ]
    }
   ],
   "source": [
    "# 4. 템플릿 문자열\n",
    "\n",
    "from string import Template\n",
    "\n",
    "# 특수 기호, 띄어쓰기를 통해 변수명을 구분.\n",
    "url = \"http://kpat.kipris.or.kr/kpat/$patent_number.pdf?method=fullText&applno=$patent_number&pub_reg=$pub_reg&fileKind=undefined\"\n",
    "\n",
    "t = Template(url)\n",
    "print(t.substitute(patent_number=patent_number, pub_reg=pub_reg))\n"
   ]
  },
  {
   "cell_type": "code",
   "execution_count": 20,
   "metadata": {},
   "outputs": [
    {
     "name": "stdout",
     "output_type": "stream",
     "text": [
      "this-is-a-secret\n",
      "this-is-a-secret\n"
     ]
    }
   ],
   "source": [
    "SECRET = \"this-is-a-secret\"\n",
    "class Error:\n",
    "    def __init__(self):\n",
    "        pass\n",
    "    \n",
    "err = Error()\n",
    "\n",
    "# {}에 들어가는 첫번쨰 요소만 치환될 수 있음\n",
    "user_input = '{error.__init__.__globals__[SECRET]}'\n",
    "print(user_input.format(error=err))\n",
    "\n",
    "# 위 문장과 동치는 아래 문장\n",
    "user_input = f'{err.__init__.__globals__[\"SECRET\"]}'\n",
    "print(user_input)"
   ]
  }
 ],
 "metadata": {
  "kernelspec": {
   "display_name": "crawler",
   "language": "python",
   "name": "python3"
  },
  "language_info": {
   "codemirror_mode": {
    "name": "ipython",
    "version": 3
   },
   "file_extension": ".py",
   "mimetype": "text/x-python",
   "name": "python",
   "nbconvert_exporter": "python",
   "pygments_lexer": "ipython3",
   "version": "3.9.17"
  },
  "orig_nbformat": 4
 },
 "nbformat": 4,
 "nbformat_minor": 2
}
