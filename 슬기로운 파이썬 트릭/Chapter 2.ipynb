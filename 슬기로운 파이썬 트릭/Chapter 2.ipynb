{
 "cells": [
  {
   "cell_type": "markdown",
   "metadata": {},
   "source": [
    "# (1) assert"
   ]
  },
  {
   "cell_type": "code",
   "execution_count": 2,
   "metadata": {},
   "outputs": [],
   "source": [
    "# from web_scrapper/module/patent.py\n",
    "# written by wonbin kim\n",
    "# 2023.08.30. 14:00 Version\n",
    "\n",
    "class Scrapper_Patent(\n",
    "    # Scrapper\n",
    "    ):\n",
    "    \n",
    "    CONFIG = {\n",
    "        'base_url' : \"http://kpat.kipris.or.kr/kpat/{patent_number}.pdf?method=fullText&applno={patent_number}&pub_reg={pub_reg}&fileKind=undefined\",\n",
    "        'pub_reg' : [\n",
    "            'R', # Registerd, 등록\n",
    "            'P', # Public, 공개\n",
    "        ]\n",
    "    }\n",
    "   \n",
    "    # def __init__(self):\n",
    "        # super().__init__(\"\")\n",
    "\n",
    "    @staticmethod\n",
    "    def get_pdf_url(\n",
    "        patent_number:int or str,\n",
    "        pub_reg : str = \"R\"\n",
    "    ) -> str:\n",
    "        \"\"\"Get the url of a patent pdf file.\"\"\"\n",
    "        if isinstance(patent_number, str):\n",
    "            patent_number = patent_number.replace(\"-\", \"\")\n",
    "                        \n",
    "        return Scrapper_Patent.CONFIG['base_url'].format(\n",
    "            patent_number=patent_number,\n",
    "            pub_reg = pub_reg,\n",
    "        )\n",
    "\n",
    "        \n",
    "    @staticmethod\n",
    "    def get_pdf_url_except(\n",
    "        patent_number:int or str,\n",
    "        pub_reg : str = \"R\"\n",
    "    ) -> str:\n",
    "        \"\"\"Get the url of a patent pdf file, error handling with except\"\"\"\n",
    "        \n",
    "        if isinstance(patent_number, str):\n",
    "            patent_number = patent_number.replace(\"-\", \"\")\n",
    "        \n",
    "        if len(str(patent_number)) != 13:\n",
    "            raise ValueError(patent_number)\n",
    "        \n",
    "        if pub_reg not in Scrapper_Patent.CONFIG['pub_reg']:\n",
    "            raise ValueError(pub_reg)\n",
    "        \n",
    "        return Scrapper_Patent.CONFIG['base_url'].format(\n",
    "            patent_number=patent_number,\n",
    "            pub_reg = pub_reg,\n",
    "        )\n",
    "    \n",
    "    @staticmethod\n",
    "    def get_pdf_url_assert(\n",
    "        patent_number:int or str,\n",
    "        pub_reg : str = \"R\"\n",
    "    ) -> str:\n",
    "        \"\"\"Get the url of a patent pdf file. error handling with assert\"\"\"\n",
    "        \n",
    "        if isinstance(patent_number, str):\n",
    "            patent_number = patent_number.replace(\"-\", \"\")\n",
    "        \n",
    "        assert len(str(patent_number)) == 13, \"특허번호는 13자리\"\n",
    "\n",
    "        assert pub_reg in Scrapper_Patent.CONFIG['pub_reg'], \"타입은 P(공개) 혹은 R(등록)\"       \n",
    "        \n",
    "        return Scrapper_Patent.CONFIG['base_url'].format(\n",
    "            patent_number=patent_number,\n",
    "            pub_reg = pub_reg,\n",
    "        )"
   ]
  },
  {
   "cell_type": "code",
   "execution_count": null,
   "metadata": {},
   "outputs": [],
   "source": []
  },
  {
   "cell_type": "code",
   "execution_count": null,
   "metadata": {},
   "outputs": [],
   "source": []
  }
 ],
 "metadata": {
  "kernelspec": {
   "display_name": "crawler",
   "language": "python",
   "name": "python3"
  },
  "language_info": {
   "codemirror_mode": {
    "name": "ipython",
    "version": 3
   },
   "file_extension": ".py",
   "mimetype": "text/x-python",
   "name": "python",
   "nbconvert_exporter": "python",
   "pygments_lexer": "ipython3",
   "version": "3.9.17"
  },
  "orig_nbformat": 4
 },
 "nbformat": 4,
 "nbformat_minor": 2
}
